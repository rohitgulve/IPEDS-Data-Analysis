{
 "cells": [
  {
   "cell_type": "code",
   "execution_count": 1,
   "id": "753c0dea",
   "metadata": {},
   "outputs": [],
   "source": [
    "import pandas as pd "
   ]
  },
  {
   "cell_type": "code",
   "execution_count": 3,
   "id": "e39722f5",
   "metadata": {},
   "outputs": [],
   "source": [
    "IPED_data = pd.read_excel(\"./Data/IPEDS_data.xlsx\")"
   ]
  },
  {
   "cell_type": "code",
   "execution_count": 4,
   "id": "0eb02ac7",
   "metadata": {},
   "outputs": [
    {
     "data": {
      "text/html": [
       "<div>\n",
       "<style scoped>\n",
       "    .dataframe tbody tr th:only-of-type {\n",
       "        vertical-align: middle;\n",
       "    }\n",
       "\n",
       "    .dataframe tbody tr th {\n",
       "        vertical-align: top;\n",
       "    }\n",
       "\n",
       "    .dataframe thead th {\n",
       "        text-align: right;\n",
       "    }\n",
       "</style>\n",
       "<table border=\"1\" class=\"dataframe\">\n",
       "  <thead>\n",
       "    <tr style=\"text-align: right;\">\n",
       "      <th></th>\n",
       "      <th>ID number</th>\n",
       "      <th>Name</th>\n",
       "      <th>year</th>\n",
       "      <th>ZIP code</th>\n",
       "      <th>Highest degree offered</th>\n",
       "      <th>County name</th>\n",
       "      <th>Longitude location of institution</th>\n",
       "      <th>Latitude location of institution</th>\n",
       "      <th>Religious affiliation</th>\n",
       "      <th>Offers Less than one year certificate</th>\n",
       "      <th>...</th>\n",
       "      <th>Percent of freshmen  receiving federal grant aid</th>\n",
       "      <th>Percent of freshmen receiving Pell grants</th>\n",
       "      <th>Percent of freshmen receiving other federal grant aid</th>\n",
       "      <th>Percent of freshmen receiving state/local grant aid</th>\n",
       "      <th>Percent of freshmen receiving institutional grant aid</th>\n",
       "      <th>Percent of freshmen receiving student loan aid</th>\n",
       "      <th>Percent of freshmen receiving federal student loans</th>\n",
       "      <th>Percent of freshmen receiving other loan aid</th>\n",
       "      <th>Endowment assets (year end) per FTE enrollment (GASB)</th>\n",
       "      <th>Endowment assets (year end) per FTE enrollment (FASB)</th>\n",
       "    </tr>\n",
       "  </thead>\n",
       "  <tbody>\n",
       "    <tr>\n",
       "      <th>0</th>\n",
       "      <td>100654</td>\n",
       "      <td>Alabama A &amp; M University</td>\n",
       "      <td>2013</td>\n",
       "      <td>35762</td>\n",
       "      <td>Doctor's degree - research/scholarship</td>\n",
       "      <td>Madison County</td>\n",
       "      <td>-86.568502</td>\n",
       "      <td>34.783368</td>\n",
       "      <td>Not applicable</td>\n",
       "      <td>Implied no</td>\n",
       "      <td>...</td>\n",
       "      <td>81.0</td>\n",
       "      <td>81.0</td>\n",
       "      <td>7.0</td>\n",
       "      <td>1.0</td>\n",
       "      <td>32.0</td>\n",
       "      <td>89.0</td>\n",
       "      <td>89.0</td>\n",
       "      <td>1.0</td>\n",
       "      <td>NaN</td>\n",
       "      <td>NaN</td>\n",
       "    </tr>\n",
       "    <tr>\n",
       "      <th>1</th>\n",
       "      <td>100663</td>\n",
       "      <td>University of Alabama at Birmingham</td>\n",
       "      <td>2013</td>\n",
       "      <td>35294-0110</td>\n",
       "      <td>Doctor's degree - research/scholarship and pro...</td>\n",
       "      <td>Jefferson County</td>\n",
       "      <td>-86.809170</td>\n",
       "      <td>33.502230</td>\n",
       "      <td>Not applicable</td>\n",
       "      <td>Implied no</td>\n",
       "      <td>...</td>\n",
       "      <td>36.0</td>\n",
       "      <td>36.0</td>\n",
       "      <td>10.0</td>\n",
       "      <td>0.0</td>\n",
       "      <td>60.0</td>\n",
       "      <td>56.0</td>\n",
       "      <td>55.0</td>\n",
       "      <td>5.0</td>\n",
       "      <td>24136.0</td>\n",
       "      <td>NaN</td>\n",
       "    </tr>\n",
       "    <tr>\n",
       "      <th>2</th>\n",
       "      <td>100690</td>\n",
       "      <td>Amridge University</td>\n",
       "      <td>2013</td>\n",
       "      <td>36117-3553</td>\n",
       "      <td>Doctor's degree - research/scholarship and pro...</td>\n",
       "      <td>Montgomery County</td>\n",
       "      <td>-86.174010</td>\n",
       "      <td>32.362609</td>\n",
       "      <td>Churches of Christ</td>\n",
       "      <td>Implied no</td>\n",
       "      <td>...</td>\n",
       "      <td>90.0</td>\n",
       "      <td>90.0</td>\n",
       "      <td>0.0</td>\n",
       "      <td>40.0</td>\n",
       "      <td>90.0</td>\n",
       "      <td>100.0</td>\n",
       "      <td>100.0</td>\n",
       "      <td>0.0</td>\n",
       "      <td>NaN</td>\n",
       "      <td>302.0</td>\n",
       "    </tr>\n",
       "    <tr>\n",
       "      <th>3</th>\n",
       "      <td>100706</td>\n",
       "      <td>University of Alabama in Huntsville</td>\n",
       "      <td>2013</td>\n",
       "      <td>35899</td>\n",
       "      <td>Doctor's degree - research/scholarship and pro...</td>\n",
       "      <td>Madison County</td>\n",
       "      <td>-86.638420</td>\n",
       "      <td>34.722818</td>\n",
       "      <td>Not applicable</td>\n",
       "      <td>Yes</td>\n",
       "      <td>...</td>\n",
       "      <td>31.0</td>\n",
       "      <td>31.0</td>\n",
       "      <td>4.0</td>\n",
       "      <td>1.0</td>\n",
       "      <td>63.0</td>\n",
       "      <td>46.0</td>\n",
       "      <td>46.0</td>\n",
       "      <td>3.0</td>\n",
       "      <td>11502.0</td>\n",
       "      <td>NaN</td>\n",
       "    </tr>\n",
       "    <tr>\n",
       "      <th>4</th>\n",
       "      <td>100724</td>\n",
       "      <td>Alabama State University</td>\n",
       "      <td>2013</td>\n",
       "      <td>36104-0271</td>\n",
       "      <td>Doctor's degree - research/scholarship and pro...</td>\n",
       "      <td>Montgomery County</td>\n",
       "      <td>-86.295677</td>\n",
       "      <td>32.364317</td>\n",
       "      <td>Not applicable</td>\n",
       "      <td>Implied no</td>\n",
       "      <td>...</td>\n",
       "      <td>76.0</td>\n",
       "      <td>76.0</td>\n",
       "      <td>13.0</td>\n",
       "      <td>11.0</td>\n",
       "      <td>34.0</td>\n",
       "      <td>81.0</td>\n",
       "      <td>81.0</td>\n",
       "      <td>0.0</td>\n",
       "      <td>13202.0</td>\n",
       "      <td>NaN</td>\n",
       "    </tr>\n",
       "  </tbody>\n",
       "</table>\n",
       "<p>5 rows × 145 columns</p>\n",
       "</div>"
      ],
      "text/plain": [
       "   ID number                                 Name  year    ZIP code  \\\n",
       "0     100654             Alabama A & M University  2013       35762   \n",
       "1     100663  University of Alabama at Birmingham  2013  35294-0110   \n",
       "2     100690                   Amridge University  2013  36117-3553   \n",
       "3     100706  University of Alabama in Huntsville  2013       35899   \n",
       "4     100724             Alabama State University  2013  36104-0271   \n",
       "\n",
       "                              Highest degree offered        County name  \\\n",
       "0             Doctor's degree - research/scholarship     Madison County   \n",
       "1  Doctor's degree - research/scholarship and pro...   Jefferson County   \n",
       "2  Doctor's degree - research/scholarship and pro...  Montgomery County   \n",
       "3  Doctor's degree - research/scholarship and pro...     Madison County   \n",
       "4  Doctor's degree - research/scholarship and pro...  Montgomery County   \n",
       "\n",
       "   Longitude location of institution  Latitude location of institution  \\\n",
       "0                         -86.568502                         34.783368   \n",
       "1                         -86.809170                         33.502230   \n",
       "2                         -86.174010                         32.362609   \n",
       "3                         -86.638420                         34.722818   \n",
       "4                         -86.295677                         32.364317   \n",
       "\n",
       "  Religious affiliation Offers Less than one year certificate  ...  \\\n",
       "0        Not applicable                            Implied no  ...   \n",
       "1        Not applicable                            Implied no  ...   \n",
       "2    Churches of Christ                            Implied no  ...   \n",
       "3        Not applicable                                   Yes  ...   \n",
       "4        Not applicable                            Implied no  ...   \n",
       "\n",
       "  Percent of freshmen  receiving federal grant aid  \\\n",
       "0                                             81.0   \n",
       "1                                             36.0   \n",
       "2                                             90.0   \n",
       "3                                             31.0   \n",
       "4                                             76.0   \n",
       "\n",
       "  Percent of freshmen receiving Pell grants  \\\n",
       "0                                      81.0   \n",
       "1                                      36.0   \n",
       "2                                      90.0   \n",
       "3                                      31.0   \n",
       "4                                      76.0   \n",
       "\n",
       "  Percent of freshmen receiving other federal grant aid  \\\n",
       "0                                                7.0      \n",
       "1                                               10.0      \n",
       "2                                                0.0      \n",
       "3                                                4.0      \n",
       "4                                               13.0      \n",
       "\n",
       "  Percent of freshmen receiving state/local grant aid  \\\n",
       "0                                                1.0    \n",
       "1                                                0.0    \n",
       "2                                               40.0    \n",
       "3                                                1.0    \n",
       "4                                               11.0    \n",
       "\n",
       "  Percent of freshmen receiving institutional grant aid  \\\n",
       "0                                               32.0      \n",
       "1                                               60.0      \n",
       "2                                               90.0      \n",
       "3                                               63.0      \n",
       "4                                               34.0      \n",
       "\n",
       "  Percent of freshmen receiving student loan aid  \\\n",
       "0                                           89.0   \n",
       "1                                           56.0   \n",
       "2                                          100.0   \n",
       "3                                           46.0   \n",
       "4                                           81.0   \n",
       "\n",
       "  Percent of freshmen receiving federal student loans  \\\n",
       "0                                               89.0    \n",
       "1                                               55.0    \n",
       "2                                              100.0    \n",
       "3                                               46.0    \n",
       "4                                               81.0    \n",
       "\n",
       "  Percent of freshmen receiving other loan aid  \\\n",
       "0                                          1.0   \n",
       "1                                          5.0   \n",
       "2                                          0.0   \n",
       "3                                          3.0   \n",
       "4                                          0.0   \n",
       "\n",
       "  Endowment assets (year end) per FTE enrollment (GASB)  \\\n",
       "0                                                NaN      \n",
       "1                                            24136.0      \n",
       "2                                                NaN      \n",
       "3                                            11502.0      \n",
       "4                                            13202.0      \n",
       "\n",
       "  Endowment assets (year end) per FTE enrollment (FASB)  \n",
       "0                                                NaN     \n",
       "1                                                NaN     \n",
       "2                                              302.0     \n",
       "3                                                NaN     \n",
       "4                                                NaN     \n",
       "\n",
       "[5 rows x 145 columns]"
      ]
     },
     "execution_count": 4,
     "metadata": {},
     "output_type": "execute_result"
    }
   ],
   "source": [
    "IPED_data.head()"
   ]
  },
  {
   "cell_type": "code",
   "execution_count": null,
   "id": "89c2e692",
   "metadata": {},
   "outputs": [],
   "source": [
    "IPED_data['']"
   ]
  },
  {
   "cell_type": "code",
   "execution_count": null,
   "id": "a05248b9",
   "metadata": {},
   "outputs": [],
   "source": [
    "IPED_data.columns"
   ]
  },
  {
   "cell_type": "code",
   "execution_count": null,
   "id": "fed50bac",
   "metadata": {},
   "outputs": [],
   "source": [
    "IPED_data.shape"
   ]
  },
  {
   "cell_type": "code",
   "execution_count": null,
   "id": "06d29d0a",
   "metadata": {},
   "outputs": [],
   "source": [
    "IPED_data.describe()\n"
   ]
  },
  {
   "cell_type": "code",
   "execution_count": null,
   "id": "c45ab12b",
   "metadata": {},
   "outputs": [],
   "source": [
    "IPED_data.isna().sum().sort_values(ascending = False)"
   ]
  },
  {
   "cell_type": "code",
   "execution_count": null,
   "id": "0a45f0e6",
   "metadata": {},
   "outputs": [],
   "source": [
    "# Check for duplicates\n",
    "print(IPED_data.duplicated().sum())\n"
   ]
  },
  {
   "cell_type": "code",
   "execution_count": null,
   "id": "af7ea3a1",
   "metadata": {},
   "outputs": [],
   "source": [
    "missing_percentage = (IPED_data.isnull().sum() / len(IPED_data)) * 100\n",
    "missing_percentage = missing_percentage.sort_values(ascending=False)\n",
    "print(missing_percentage)"
   ]
  },
  {
   "cell_type": "code",
   "execution_count": null,
   "id": "d24e3b42",
   "metadata": {},
   "outputs": [],
   "source": [
    "threshold = 0.2  # 20% missing values\n",
    "\n",
    "# Calculate the percentage of missing values for each column\n",
    "missing_percentage = IPED_data.isnull().mean()\n",
    "missing_percentage"
   ]
  },
  {
   "cell_type": "code",
   "execution_count": null,
   "id": "f12dfd32",
   "metadata": {},
   "outputs": [],
   "source": [
    "# Identify columns with more than the threshold percentage of missing values\n",
    "columns_to_drop = missing_percentage[missing_percentage > threshold].index\n"
   ]
  },
  {
   "cell_type": "code",
   "execution_count": null,
   "id": "009550e2",
   "metadata": {},
   "outputs": [],
   "source": [
    "columns_to_drop"
   ]
  },
  {
   "cell_type": "code",
   "execution_count": null,
   "id": "a998a14e",
   "metadata": {},
   "outputs": [],
   "source": [
    "# Drop the identified columns\n",
    "df_cleaned = IPED_data.drop(columns=columns_to_drop)\n"
   ]
  },
  {
   "cell_type": "code",
   "execution_count": null,
   "id": "f6169812",
   "metadata": {},
   "outputs": [],
   "source": [
    "df_cleaned.head()"
   ]
  },
  {
   "cell_type": "code",
   "execution_count": null,
   "id": "92e79cb6",
   "metadata": {},
   "outputs": [],
   "source": [
    "imp_cols=['Name', 'year', 'Highest degree offered', \"Offers Bachelor's degree\",\n",
    "       \"Offers Master's degree\",\n",
    "       \"Offers Doctor's degree - research/scholarship\",\n",
    "       \"Offers Doctor's degree - professional practice\", 'Applicants total',\n",
    "       'Admissions total', 'Enrolled total', 'Estimated enrollment, total',\n",
    "       'Tuition and fees, 2013-14',\n",
    "       'Total price for in-state students living on campus 2013-14',\n",
    "       'Total price for out-of-state students living on campus 2013-14',\n",
    "       'State abbreviation', 'Control of institution', 'Total  enrollment',\n",
    "       'Full-time enrollment', 'Part-time enrollment',\n",
    "       'Undergraduate enrollment', 'Graduate enrollment',\n",
    "       'Full-time undergraduate enrollment',\n",
    "       'Part-time undergraduate enrollment',\n",
    "       'Percent of total enrollment that are women',\n",
    "       'Percent of undergraduate enrollment that are women',\n",
    "       'Percent of graduate enrollment that are women',\n",
    "       'Graduation rate - Bachelor degree within 4 years, total',\n",
    "       'Graduation rate - Bachelor degree within 5 years, total',\n",
    "       'Graduation rate - Bachelor degree within 6 years, total',\n",
    "       ]\n",
    "df_IPED = df_cleaned[imp_cols]"
   ]
  },
  {
   "cell_type": "code",
   "execution_count": null,
   "id": "00419214",
   "metadata": {},
   "outputs": [],
   "source": [
    "df_IPED.head()"
   ]
  },
  {
   "cell_type": "code",
   "execution_count": null,
   "id": "ac178425",
   "metadata": {},
   "outputs": [],
   "source": [
    "df_IPED.shape"
   ]
  },
  {
   "cell_type": "code",
   "execution_count": null,
   "id": "21f9164a",
   "metadata": {},
   "outputs": [],
   "source": [
    "df_IPED.isna().sum()"
   ]
  },
  {
   "cell_type": "code",
   "execution_count": null,
   "id": "8c6ea1e9",
   "metadata": {},
   "outputs": [],
   "source": [
    "df_IPED[df_IPED['Total  enrollment'].isna()]\n"
   ]
  },
  {
   "cell_type": "code",
   "execution_count": null,
   "id": "9e1561b2",
   "metadata": {},
   "outputs": [],
   "source": [
    "df_IPED_cleaned = df_IPED.dropna()\n"
   ]
  },
  {
   "cell_type": "code",
   "execution_count": null,
   "id": "ad55c2cf",
   "metadata": {},
   "outputs": [],
   "source": [
    "df_IPED_cleaned"
   ]
  },
  {
   "cell_type": "code",
   "execution_count": null,
   "id": "50d38040",
   "metadata": {},
   "outputs": [],
   "source": [
    "df_IPED_cleaned.isna().sum()"
   ]
  },
  {
   "cell_type": "code",
   "execution_count": null,
   "id": "eb9cb266",
   "metadata": {},
   "outputs": [],
   "source": [
    "df_IPED_cleaned.describe()\n"
   ]
  },
  {
   "cell_type": "code",
   "execution_count": null,
   "id": "ada1478b",
   "metadata": {},
   "outputs": [],
   "source": [
    "total_zero = df_IPED_cleaned[df_IPED_cleaned.loc[:]==0].count().sum()\n",
    "total_zero\n"
   ]
  },
  {
   "cell_type": "code",
   "execution_count": null,
   "id": "7722bcab",
   "metadata": {},
   "outputs": [],
   "source": [
    "high_app = df_IPED_cleaned.nlargest(20, 'Applicants total')[['Name', 'Applicants total']]\n"
   ]
  },
  {
   "cell_type": "code",
   "execution_count": null,
   "id": "ce56c1b7",
   "metadata": {},
   "outputs": [],
   "source": [
    "high_app"
   ]
  },
  {
   "cell_type": "code",
   "execution_count": null,
   "id": "c31661da",
   "metadata": {},
   "outputs": [],
   "source": [
    "# Row with the highest applicants_total\n",
    "highest_applicant = df_IPED_cleaned.nlargest(1, 'Applicants total')[['Name', 'Applicants total']]\n",
    "highest_applicant"
   ]
  },
  {
   "cell_type": "code",
   "execution_count": null,
   "id": "8571ea1b",
   "metadata": {},
   "outputs": [],
   "source": [
    "# Row with the lowest applicants_total\n",
    "lowest_applicant = df_IPED_cleaned.nsmallest(1, 'Applicants total')[['Name', 'Applicants total']]\n",
    "lowest_applicant"
   ]
  },
  {
   "cell_type": "code",
   "execution_count": null,
   "id": "8212a818",
   "metadata": {},
   "outputs": [],
   "source": [
    "df_IPED_cleaned.to_csv('IPED_cleaned_data.csv', index=False)"
   ]
  },
  {
   "cell_type": "code",
   "execution_count": null,
   "id": "2de88691",
   "metadata": {},
   "outputs": [],
   "source": [
    "import matplotlib.pyplot as plt\n",
    "import seaborn as sns\n",
    "\n",
    "# Assuming 'high_app' is your DataFrame containing the top 20 universities\n",
    "plt.figure(figsize=(12, 8))\n",
    "sns.barplot(x='Applicants total', y='Name', data=high_app)\n",
    "plt.title('Top 20 American Universities with the Most Applications in 2013')\n",
    "plt.xlabel('Number of Applications')\n",
    "plt.ylabel('University Name')\n",
    "plt.tight_layout()\n",
    "plt.show()\n"
   ]
  },
  {
   "cell_type": "code",
   "execution_count": null,
   "id": "1be21fed",
   "metadata": {},
   "outputs": [],
   "source": [
    "df_IPED_cleaned.columns"
   ]
  },
  {
   "cell_type": "code",
   "execution_count": null,
   "id": "3b404e99",
   "metadata": {},
   "outputs": [],
   "source": [
    "import matplotlib.pyplot as plt\n",
    "import seaborn as sns\n",
    "\n",
    "# Set the style for the plots\n",
    "sns.set(style=\"whitegrid\")\n",
    "\n",
    "# Define the columns and their corresponding titles\n",
    "columns = ['Applicants total', 'Admissions total', 'Enrolled total']\n",
    "titles = [\n",
    "    \"Histogram of Number of Applications\",\n",
    "    \"Histogram of Number of Admissions\",\n",
    "    \"Histogram of Number of Enrollments\"\n",
    "]\n",
    "\n",
    "# Create a figure with a specific size\n",
    "plt.figure(figsize=(16, 6))\n",
    "\n",
    "# Loop through the columns and titles\n",
    "for i, (col, title) in enumerate(zip(columns, titles), 1):\n",
    "    plt.subplot(1, 3, i)\n",
    "    sns.histplot(df_IPED_cleaned[col], bins=50, kde=True)\n",
    "    plt.title(f\"{title}\\nMean: {df_IPED_cleaned[col].mean():.1f}, Median: {df_IPED_cleaned[col].median():.1f}\")\n",
    "    plt.xlabel(f'Number of {col.replace(\"_total\", \"\").capitalize()}')\n",
    "    plt.ylabel('Frequency')\n",
    "    plt.grid(True)\n",
    "\n",
    "# Adjust layout to prevent overlap\n",
    "plt.tight_layout(pad=2)\n",
    "plt.show()\n"
   ]
  },
  {
   "cell_type": "code",
   "execution_count": null,
   "id": "5b54c9ad",
   "metadata": {},
   "outputs": [],
   "source": [
    "# plt.figure(figsize=(16,6))\n",
    "# plt.subplot(1,2,1)\n",
    "# plt.title('APPLICATIONS VS ADMISSIONS')\n",
    "# sns.scatterplot(y=df_IPED_cleaned.Admissions total,x=df_IPED_cleaned.Applicants total,hue=df_IPED_cleaned.Control of institution)\n",
    "# plt.ylabel('Number of Admissions')\n",
    "# plt.xlabel('Number of Applications')\n",
    "# plt.grid()\n",
    "\n",
    "plt.subplot(1,2,2)\n",
    "plt.title('ADMISSIONS VS ENROLLMENTS')\n",
    "sns.scatterplot(x='Admissions total',y='Enrolled total',data=df_IPED_cleaned,hue='Control of institution')\n",
    "plt.ylabel('Number of Enrollments')\n",
    "plt.xlabel('Number of Admissions')\n",
    "plt.grid()\n",
    "\n",
    "plt.tight_layout(pad=2)\n"
   ]
  },
  {
   "cell_type": "code",
   "execution_count": null,
   "id": "93e236f0",
   "metadata": {},
   "outputs": [],
   "source": [
    "import pandas as pd\n",
    "from scipy import stats\n",
    "\n",
    "# Select columns relevant to the hypothesis, e.g. graduation rate and control of institution\n",
    "public_institutions = df_IPED_cleaned[df_IPED_cleaned['Control of institution'] == 'Public']\n",
    "private_institutions = df_IPED_cleaned[df_IPED_cleaned['Control of institution'] == 'Private']\n",
    "\n",
    "# Perform a t-test comparing graduation rates for public and private institutions\n",
    "t_stat, p_value = stats.ttest_ind(public_institutions['Graduation rate - Bachelor degree within 6 years, total'], \n",
    "                                  private_institutions['Graduation rate - Bachelor degree within 6 years, total'], \n",
    "                                  equal_var=False)\n",
    "\n",
    "# Check if we can reject the null hypothesis (commonly using alpha = 0.05)\n",
    "if p_value < 0.05:\n",
    "    print(\"Reject the null hypothesis - There is a significant difference in graduation rates.\")\n",
    "else:\n",
    "    print(\"Fail to reject the null hypothesis - There is no significant difference in graduation rates.\")\n"
   ]
  },
  {
   "cell_type": "code",
   "execution_count": null,
   "id": "1aa75a21",
   "metadata": {},
   "outputs": [],
   "source": [
    "df_IPED_cleaned['enrollment_rate']=(df_IPED_cleaned['Enrolled total']/df_IPED_cleaned['Admissions total']*100).round(2)\n",
    "df_IPED_cleaned.head(2)\n"
   ]
  },
  {
   "cell_type": "code",
   "execution_count": null,
   "id": "ba143974",
   "metadata": {},
   "outputs": [],
   "source": [
    "df_IPED_cleaned.to_csv('IPED_cleaned_data_1.csv', index=False)"
   ]
  },
  {
   "cell_type": "code",
   "execution_count": null,
   "id": "b9405fbc",
   "metadata": {},
   "outputs": [],
   "source": [
    "df_IPED_cleaned['Control of institution'].value_counts()"
   ]
  },
  {
   "cell_type": "code",
   "execution_count": null,
   "id": "40bc1dc0",
   "metadata": {},
   "outputs": [],
   "source": []
  }
 ],
 "metadata": {
  "kernelspec": {
   "display_name": "Python 3 (ipykernel)",
   "language": "python",
   "name": "python3"
  },
  "language_info": {
   "codemirror_mode": {
    "name": "ipython",
    "version": 3
   },
   "file_extension": ".py",
   "mimetype": "text/x-python",
   "name": "python",
   "nbconvert_exporter": "python",
   "pygments_lexer": "ipython3",
   "version": "3.9.12"
  }
 },
 "nbformat": 4,
 "nbformat_minor": 5
}
